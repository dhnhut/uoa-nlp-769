{
  "cells": [
    {
      "cell_type": "markdown",
      "metadata": {
        "id": "ZYwcIXq4t7cg"
      },
      "source": [
        "# CS769 Tutorial Week 1\n",
        "# Word embeddings. Review with code  examples\n",
        "# TA: Chenghao Liu\n",
        "\n"
      ]
    },
    {
      "cell_type": "markdown",
      "metadata": {
        "id": "VHmPExx1H1vh"
      },
      "source": [
        "\n",
        "### Introduce myself\n",
        "\n",
        "#### I'm a PhD candidate at School of Computer Science, the University of Auckland.\n",
        "\n",
        "#### Research topics: Natural Language Processing (NLP) and Multimodal Models. Specifically, I'm very interested in the reasoning capabilities of multimodal large language models.\n",
        "\n",
        "Email: cliu797@aucklanduni.ac.nz"
      ]
    },
    {
      "cell_type": "markdown",
      "metadata": {
        "id": "VzD_pgmkJVAB"
      },
      "source": [
        "<div id=\"first\"></div>\n",
        "\n",
        "## 1 Instruction of needed environment or package\n",
        "\n",
        "### 1.1 Install Anaconda\n",
        "\n",
        "Anaconda web: https://www.anaconda.com/products/individual\n",
        "\n",
        "#### Windows\n",
        "\n",
        "1. **Download Anaconda Installer:**\n",
        "   - Go to the [Anaconda official website](https://www.anaconda.com/).\n",
        "   - Click on the \"Download\" tab and select the Windows version of the installer to download.\n",
        "\n",
        "2. **Run the Installer:**\n",
        "   - Double-click the downloaded executable file.\n",
        "   - Follow the on-screen instructions to complete the installation. It's recommended to check the option to add Anaconda to your system PATH environment variable.\n",
        "\n",
        "3. **Verify Installation:**\n",
        "   - Open Command Prompt.\n",
        "   - Type `conda --version` and press Enter. You should see the version information of Anaconda.\n",
        "\n",
        "#### macOS\n",
        "\n",
        "1. **Download Anaconda Installer:**\n",
        "   - Visit the [Anaconda official website](https://www.anaconda.com/).\n",
        "   - Click on the \"Download\" tab and select the macOS version of the installer to download.\n",
        "\n",
        "2. **Run the Installer:**\n",
        "   - Open Terminal.\n",
        "   - Navigate to the directory where the installer was downloaded and run the script:\n",
        "     ```sh\n",
        "     bash ~/Downloads/Anaconda3-<version>-MacOSX-x86_64.sh\n",
        "     ```\n",
        "   - Follow the prompts to complete the installation.\n",
        "\n",
        "3. **Verify Installation:**\n",
        "   - Open Terminal.\n",
        "   - Type `conda --version` and press Enter. You should see the version information of Anaconda.\n",
        "\n",
        "#### Linux\n",
        "\n",
        "1. **Download Anaconda Installer:**\n",
        "   - Visit the [Anaconda official website](https://www.anaconda.com/).\n",
        "   - Click on the \"Download\" tab and select the Linux version of the installer to download.\n",
        "\n",
        "2. **Run the Installer:**\n",
        "   - Open Terminal.\n",
        "   - Navigate to the directory where the installer was downloaded and run the script:\n",
        "     ```sh\n",
        "     bash ~/Downloads/Anaconda3-<version>-Linux-x86_64.sh\n",
        "     ```\n",
        "   - Follow the prompts to complete the installation.\n",
        "\n",
        "3. **Configure Environment Variables:**\n",
        "   - After installation, you might need to refresh your environment variables or restart your terminal:\n",
        "     ```sh\n",
        "     source ~/.bashrc\n",
        "     ```\n",
        "\n",
        "4. **Verify Installation:**\n",
        "   - Open Terminal.\n",
        "   - Type `conda --version` and press Enter. You should see the version information of Anaconda.\n",
        "\n",
        "### 1.2 Python Environment Creation\n",
        "\n",
        "On Windows, use \"anaconda powershell\"\n",
        "On Macos or Linux, use \"source </path/to/your/Anaconda3>/bin/activate\"\n",
        "\n",
        "For address\n",
        "- Linux and Mac: use forward slash \"/\"\n",
        "- Windows uses backslash \"\\\\\"\n",
        "\n",
        "\n",
        "#### Create a directory for our project (Optional)\n",
        "```\n",
        "mkdir </path/to/your/directory>\n",
        "cd </path/to/your/directory>\n",
        "```\n",
        "\n",
        "#### Create a new virtual environment\n",
        "```\n",
        "conda env list # Check the environment\n",
        "conda create --name <env_name> python=3.10 # Create the environment with the <env_name> name\n",
        "conda activate <env_name>\n",
        "# \"-n\" for name, \"-c\" for channel\n",
        "conda install -n <env_name> -c conda-forge numpy scikit-learn matplotlib jupyterlab pandas # Install some packges\n",
        "```\n",
        "\n",
        "#### Check the python version and packages (Optional)\n",
        "```\n",
        "# Avoid install packages using pip, unless you cannot find it in conda-forge.\n",
        "python --version\n",
        "python -m pip list\n",
        "\n",
        "# To delete the environment\n",
        "conda env remove --name venv\n",
        "```\n",
        "\n",
        "### 1.3 Jupyter Instruction\n",
        "\n",
        "#### Activate Conda Environment\n",
        "\n",
        "```\n",
        "# Move to your project directory (Optional)\n",
        "cd </path/to/your/directory>\n",
        "\n",
        "# Activate your environment\n",
        "conda activate <env_name>\n",
        "```\n",
        "\n",
        "#### Install Jupyter\n",
        "```\n",
        "conda install jupyter\n",
        "```\n",
        "\n",
        "#### Open Jupyter\n",
        "```\n",
        "jupyter notebook\n",
        "```\n",
        "\n",
        "Then you can work without the terminal. **BUT DO NOT CLOSE THE TERMINAL!**\n",
        "\n",
        "### 1.3 (Optional) GIT Instruction\n",
        "\n",
        "- On Winodws and Mac: https://git-scm.com/downloads\n",
        "- On Linux: https://git-scm.com/download/linux\n",
        "- Create a free account on [GitHub](https://github.com/).\n",
        "- (Optional) Create a new repository with name **tutorial-769** on GitHub, and commit the jupyter notebook for this lab to the repo.\n",
        "\n",
        "### 1.4 (Optional) Colab\n",
        "\n",
        "Colab introduction: https://colab.research.google.com/#scrollTo=P-H6Lw1vyNNd\n",
        "\n",
        "Google Colab is a free, cloud-based Jupyter notebook environment provided by Google, which allows you to write and execute Python code in your browser.\n",
        "\n",
        "#### Step 1: Accessing Google Colab\n",
        "\n",
        "1. **Open your web browser.**\n",
        "2. **Go to the Google Colab website:**\n",
        "   [Google Colab](https://colab.research.google.com/)\n",
        "\n",
        "#### Step 2: Creating a New Notebook\n",
        "\n",
        "1. **On the Colab homepage, click on \"New Notebook\"** in the lower-right corner of the window.\n",
        "\n",
        "2. **Alternatively, you can open an existing notebook** by uploading a `.ipynb` file or selecting one from your Google Drive.\n",
        "\n",
        "#### Step 3: Using Google Colab\n",
        "\n",
        "##### Writing and Running Code\n",
        "\n",
        "- **Code cells:** Click on a cell to select it. Type your code and press `Shift + Enter` to execute.\n",
        "- **Add new cells:** Click on the `+ Code` button above the notebook or use the shortcut `Ctrl + M + B` to add a new code cell.\n",
        "\n",
        "##### Installing Packages\n",
        "\n",
        "- **To install additional Python packages:** Use the `!pip install` command within a code cell.\n",
        "  ```\n",
        "  !pip install package_name\n",
        "   ```\n",
        "   \n",
        "\n",
        "---"
      ]
    },
    {
      "cell_type": "markdown",
      "metadata": {
        "id": "uabj5jkUt_hK"
      },
      "source": [
        "## 2. What is word embedding?\n",
        "\n",
        "According to Wikipedia, **Word embedding** is the collective name for a set of language modeling and feature learning techniques in natural language processing (NLP) where words or phrases from the vocabulary are mapped to vectors of real numbers."
      ]
    },
    {
      "cell_type": "markdown",
      "metadata": {
        "id": "knWTPeFGvCVr"
      },
      "source": [
        "## 2.1 One-hot or CountVectorizing\n",
        "\n",
        "The most basic method for transforming words into vectors is to count occurrence of each word in each document. Such approach is called countvectorizing or one-hot encoding.\n",
        "\n",
        "The main principle of this method is to collect a set of documents (they can be words, sentences, paragraphs or even articles) and count the occurrence of every word in each document. Strictly speaking, the columns of the resulting matrix are words and the rows are documents.\n",
        "\n",
        "### Example\n",
        "![0_4QWLdmNkB87GPi_S.webp](data:image/webp;base64,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)\n"
      ]
    },
    {
      "cell_type": "code",
      "execution_count": 1,
      "metadata": {
        "id": "CqL-rowBt3FB"
      },
      "outputs": [],
      "source": [
        "from sklearn.feature_extraction.text import CountVectorizer\n",
        "# create CountVectorizer object\n",
        "vectorizer = CountVectorizer()\n",
        "corpus = [\n",
        "          'Text of the very first new sentence with the first words in sentence.',\n",
        "          'Text of the second sentence.',\n",
        "          'Number three with lot of words words words.',\n",
        "          'Short text, less words.',\n",
        "]"
      ]
    },
    {
      "cell_type": "code",
      "execution_count": 2,
      "metadata": {
        "colab": {
          "base_uri": "https://localhost:8080/"
        },
        "id": "0nz67PMDv4-1",
        "outputId": "955d2eb0-0bce-4f78-a742-c788b1e1a2bf"
      },
      "outputs": [],
      "source": [
        "corpus"
      ]
    },
    {
      "cell_type": "code",
      "execution_count": 3,
      "metadata": {
        "colab": {
          "base_uri": "https://localhost:8080/"
        },
        "id": "jp5Ylyahv-Sx",
        "outputId": "78acc494-a6f5-41b0-bc0d-d283a8f3d16e"
      },
      "outputs": [],
      "source": [
        "# learn the vocabulary and store CountVectorizer sparse matrix in term_frequencies\n",
        "term_frequencies = vectorizer.fit_transform(corpus)\n",
        "vocab = vectorizer.get_feature_names_out()\n",
        "vocab"
      ]
    },
    {
      "cell_type": "code",
      "execution_count": 4,
      "metadata": {
        "colab": {
          "base_uri": "https://localhost:8080/"
        },
        "id": "n9Wzj12tFU4-",
        "outputId": "538c8718-0e47-4290-b5c5-470a29e91e88"
      },
      "outputs": [],
      "source": [
        "term_frequencies = term_frequencies.toarray() # convert sparse matrix to numpy array\n",
        "term_frequencies"
      ]
    },
    {
      "cell_type": "code",
      "execution_count": 5,
      "metadata": {
        "colab": {
          "base_uri": "https://localhost:8080/",
          "height": 479
        },
        "id": "7AMSth6SJ-VL",
        "outputId": "7e6661ae-fadc-464b-9fba-fc9b79d76f7d"
      },
      "outputs": [],
      "source": [
        "import seaborn as sns\n",
        "sns.heatmap(term_frequencies, annot=True, cbar = False, xticklabels = vocab);"
      ]
    },
    {
      "cell_type": "code",
      "execution_count": 6,
      "metadata": {
        "colab": {
          "base_uri": "https://localhost:8080/"
        },
        "id": "5swG8_LdwPEN",
        "outputId": "193b203b-e06e-4394-cda4-5f0c22da7aa4"
      },
      "outputs": [],
      "source": [
        "# Convert another document with countvectorizing\n",
        "vectorizer.transform(['A new new sentence.']).toarray()"
      ]
    },
    {
      "cell_type": "markdown",
      "metadata": {
        "id": "CKO-WI3IEuaR"
      },
      "source": [
        "Another approach in countvectorizing is just to place 1 if the word is found in the document (no matter how often) and 0 if the word is not found in the document. In this case we get real 'one-hot' encoding."
      ]
    },
    {
      "cell_type": "code",
      "execution_count": 7,
      "metadata": {
        "colab": {
          "base_uri": "https://localhost:8080/"
        },
        "id": "Cd8wwfuWED1w",
        "outputId": "6c2faa5a-1264-41a4-8a3c-833f356f850c"
      },
      "outputs": [],
      "source": [
        "one_hot_vectorizer = CountVectorizer(binary=True)\n",
        "one_hot = one_hot_vectorizer.fit_transform(corpus).toarray()\n",
        "one_hot"
      ]
    },
    {
      "cell_type": "code",
      "execution_count": 8,
      "metadata": {
        "colab": {
          "base_uri": "https://localhost:8080/",
          "height": 496
        },
        "id": "HMr0ixndJlL7",
        "outputId": "b5160969-c9f5-41b7-8bcd-1c63fbd6490d"
      },
      "outputs": [],
      "source": [
        "sns.heatmap(one_hot, annot=True, cbar = False, xticklabels = vocab)"
      ]
    },
    {
      "cell_type": "markdown",
      "metadata": {
        "id": "5yiZ6Ua4w5u2"
      },
      "source": [
        "## 2.2 TF-IDF encoding\n",
        "\n",
        "With a large corpus of documents some words like ‘a’, ‘the’, ‘is’, etc. occur very frequently but they don’t carry a lot of information. Using one-hot encoding approach we can decide that these words are important because they appear in many documents. One of the ways to solve this problem is stopwords filtering, but this solution is discrete and not flexible.\n",
        "\n",
        "TF-IDF (term frequency - inverse document frequency) can deal with this problem better. TF-IDF lowers the weight of commonly used words and raises the weight of rare words that occur only in current document. TF-IDF formula looks like this:\n",
        "<br><br>\n",
        "\n",
        "$tfidf(term, document)= tf(term, document) \\cdot idf(term)$\n",
        "\n",
        "<br>\n",
        "Where TF is calculated by dividing number of times the word occurs in the document by the total number of words in the document\n",
        "\n",
        "$tf(term, document)= \\frac{n_i}{\\sum_{k=1}^W n_k}$\n",
        "\n",
        "IDF (inverse document frequency), interpreted like inversed number of documents, in which the term we’re interested in occurs. N - number of documents, n(t) - number of documents with current word or term t.\n",
        "\n",
        "\n",
        "$idf(term) = \\log {\\frac{N}{n_t}} $\n",
        "\n",
        "### Example:\n",
        "\n",
        "\n",
        "![Term-Frequency-Inverse-Document-Frequency-TF-IDF.png](data:image/png;base64,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)\n",
        "\n",
        "\n"
      ]
    },
    {
      "cell_type": "code",
      "execution_count": 9,
      "metadata": {
        "id": "pRF9_B5lwURy"
      },
      "outputs": [],
      "source": [
        "from sklearn.feature_extraction.text import TfidfVectorizer\n",
        "import seaborn as sns\n",
        "\n",
        "corpus = [\n",
        "          'Time flies like an arrow.',\n",
        "          'Fruit flies like a banana.'\n",
        "]\n",
        "\n",
        "vocab = ['an', 'arrow', 'banana', 'flies', 'fruit', 'like', 'time']"
      ]
    },
    {
      "cell_type": "code",
      "execution_count": 10,
      "metadata": {
        "colab": {
          "base_uri": "https://localhost:8080/"
        },
        "id": "uckXLvR0DKIm",
        "outputId": "856e1d8e-f019-442b-fc94-890c309f7a8e"
      },
      "outputs": [],
      "source": [
        "tfidf_vectorizer = TfidfVectorizer()\n",
        "tfidf = tfidf_vectorizer.fit_transform(corpus).toarray()\n",
        "tfidf"
      ]
    },
    {
      "cell_type": "code",
      "execution_count": 11,
      "metadata": {
        "colab": {
          "base_uri": "https://localhost:8080/",
          "height": 447
        },
        "id": "rI8h6WGCDgY_",
        "outputId": "e5f5668b-3bba-434e-b5f3-29c450c2080c"
      },
      "outputs": [],
      "source": [
        "sns.heatmap(tfidf, annot=True, cbar = False, xticklabels = vocab)"
      ]
    },
    {
      "cell_type": "markdown",
      "metadata": {
        "id": "P8IxcZQGTGb6"
      },
      "source": [
        "## 2.3 Word2Vec and GloVe"
      ]
    },
    {
      "cell_type": "markdown",
      "metadata": {
        "id": "pHdtizR4T1d_"
      },
      "source": [
        "The most commonly used models for word embeddings are [word2vec](https://github.com/dav/word2vec/) and [GloVe](https://nlp.stanford.edu/projects/glove/) which are both unsupervised approaches based on the distributional hypothesis (words that occur in the same contexts tend to have similar meanings).\n",
        "\n",
        "Word2Vec word embeddings are vector representations of words,\n",
        "that are typically learnt by an unsupervised model when fed\n",
        "with large amounts of text as input (e.g. Wikipedia, science, news, articles etc.). These representation of words capture semantic similarity between words among other properties. Word2Vec word embeddings are learnt in a such way, that [distance](https://en.wikipedia.org/wiki/Euclidean_distance) between vectors for words with close meanings (\"king\" and \"queen\" for example) are closer than distance for words with complety different meanings (\"king\" and \"carpet\" for example).\n",
        "\n",
        "### Example:\n",
        "\n",
        "\n",
        "![wordgraph.png](data:image/png;base64,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)\n",
        "\n"
      ]
    },
    {
      "cell_type": "code",
      "execution_count": 6,
      "metadata": {
        "colab": {
          "base_uri": "https://localhost:8080/"
        },
        "id": "AZ_HeKRI9_7l",
        "outputId": "b9ab876c-e698-427a-950c-813280158918"
      },
      "outputs": [],
      "source": [
        "# Try Word2Vec with Gensim\n",
        "\n",
        "import gensim.downloader as api\n",
        "\n",
        "# Load pretrained vectors from Google\n",
        "model = api.load(\"glove-wiki-gigaword-50\")\n",
        "\n",
        "# Load Word2Vec\n",
        "# model = api.load('word2vec-google-news-300')"
      ]
    },
    {
      "cell_type": "code",
      "execution_count": null,
      "metadata": {
        "colab": {
          "base_uri": "https://localhost:8080/"
        },
        "id": "bT-yiT9L_c7b",
        "outputId": "9139ac72-1bde-40c3-b685-134d2a2c5d84"
      },
      "outputs": [],
      "source": [
        "king = model['king']\n",
        "print(king.shape)\n",
        "print(king[:10])"
      ]
    },
    {
      "cell_type": "code",
      "execution_count": null,
      "metadata": {
        "colab": {
          "base_uri": "https://localhost:8080/"
        },
        "id": "JBznpSDbAAJx",
        "outputId": "e9fcb731-a9bb-47b1-9835-62be563ca320"
      },
      "outputs": [],
      "source": [
        "# king - man + woman = queen\n",
        "print(model.most_similar(positive=['woman', 'king'], negative=['man'])[:3])"
      ]
    },
    {
      "cell_type": "code",
      "execution_count": null,
      "metadata": {
        "colab": {
          "base_uri": "https://localhost:8080/"
        },
        "id": "3ckykNCjA-UP",
        "outputId": "f8ee998f-9e93-4fbd-f2e4-cbefba01bef7"
      },
      "outputs": [],
      "source": [
        "print(model.doesnt_match(\"breakfast robot dinner lunch\".split()))"
      ]
    },
    {
      "cell_type": "code",
      "execution_count": null,
      "metadata": {
        "colab": {
          "base_uri": "https://localhost:8080/"
        },
        "id": "Pb121-XFBBc9",
        "outputId": "a5819f38-46b3-4d23-fca2-54169e9b9b8b"
      },
      "outputs": [],
      "source": [
        "print(model.similarity('woman', 'man'))"
      ]
    },
    {
      "cell_type": "code",
      "execution_count": null,
      "metadata": {
        "colab": {
          "base_uri": "https://localhost:8080/"
        },
        "id": "YVL0I1qBBDcg",
        "outputId": "7f847f23-eaa7-4f84-fb78-e6b490ee5532"
      },
      "outputs": [],
      "source": [
        "print(model.similarity('king', 'woman'))"
      ]
    },
    {
      "cell_type": "markdown",
      "metadata": {
        "id": "NEFSugKAFXeB"
      },
      "source": [
        "Another word embedding method is **Glove** (“Global Vectors”). It is based on matrix factorization techniques on the word-context matrix. It first constructs a large matrix of (words x context) co-occurrence information, i.e. for each “word” (the rows), you count how frequently we see this word in some “context” (the columns) in a large corpus. Then this matrix is factorized to a lower-dimensional (word x features) matrix, where each row now stores a vector representation for each word. In general, this is done by minimizing a “reconstruction loss”. This loss tries to find the lower-dimensional representations which can explain most of the variance in the high-dimensional data."
      ]
    },
    {
      "cell_type": "code",
      "execution_count": 7,
      "metadata": {
        "colab": {
          "base_uri": "https://localhost:8080/"
        },
        "id": "27udJLwcbVLv",
        "outputId": "1281660a-b64d-4ce7-d863-73c0d211b5b5"
      },
      "outputs": [],
      "source": [
        "# Try Glove word embeddings with Spacy\n",
        "\n",
        "!python3 -m spacy download en_core_web_lg"
      ]
    },
    {
      "cell_type": "code",
      "execution_count": 8,
      "metadata": {
        "colab": {
          "base_uri": "https://localhost:8080/"
        },
        "id": "LkURcwd5LJUp",
        "outputId": "a556bb9e-7eed-4287-de33-fe6ab6ae1f36"
      },
      "outputs": [],
      "source": [
        "import spacy\n",
        "# Load the spacy model that you have installed\n",
        "import en_core_web_lg\n",
        "nlp = en_core_web_lg.load()\n",
        "# process a sentence using the model\n",
        "doc = nlp(\"man king stands on the carpet and sees woman queen\")\n",
        "# Get the vector for 'king':\n",
        "doc[1].vector[0:50]"
      ]
    },
    {
      "cell_type": "markdown",
      "metadata": {
        "id": "hI-998SUfAx-"
      },
      "source": [
        "Find similarity between King and Queen (higher value is better)."
      ]
    },
    {
      "cell_type": "code",
      "execution_count": 9,
      "metadata": {
        "colab": {
          "base_uri": "https://localhost:8080/"
        },
        "id": "K34HpkmWaEqV",
        "outputId": "a1438e20-bc0f-4202-b6aa-deb625409f5a"
      },
      "outputs": [],
      "source": [
        "doc[1].similarity(doc[9])"
      ]
    },
    {
      "cell_type": "markdown",
      "metadata": {
        "id": "FXm7aeh4hES5"
      },
      "source": [
        "Find similarity between King and carpet"
      ]
    },
    {
      "cell_type": "code",
      "execution_count": 10,
      "metadata": {
        "colab": {
          "base_uri": "https://localhost:8080/"
        },
        "id": "vSqwqBrUcwMB",
        "outputId": "b7ba1fc4-48ea-4c0c-c5cd-85a2aef95dcd"
      },
      "outputs": [],
      "source": [
        "doc[1].similarity(doc[5])"
      ]
    },
    {
      "cell_type": "markdown",
      "metadata": {
        "id": "YHsyuyS3h65C"
      },
      "source": [
        "Check if king - man + woman = queen. We will multiply vectors for 'man' and 'woman' by two, because subtracting the vector for 'man' and adding the vector for 'woman' will do little to the original vector for “king”, likely because those “man” and “woman” are related themselves."
      ]
    },
    {
      "cell_type": "code",
      "execution_count": 11,
      "metadata": {
        "id": "IXQ6uvkHh2bA"
      },
      "outputs": [],
      "source": [
        "v =  doc[1].vector - (doc[0].vector*2) + (doc[8].vector*2)"
      ]
    },
    {
      "cell_type": "code",
      "execution_count": 12,
      "metadata": {
        "id": "Bfd7cpLWi0FS"
      },
      "outputs": [],
      "source": [
        "from scipy.spatial import distance\n",
        "import numpy as np\n",
        "\n",
        "# Format the vocabulary for use in the distance function\n",
        "vectors = [token.vector for token in doc]\n",
        "vectors = np.array(vectors)\n",
        "\n",
        "# Find the closest word below\n",
        "closest_index = distance.cdist(np.expand_dims(v, axis = 0), vectors, metric = 'cosine').argmin()\n",
        "output_word = doc[closest_index].text\n"
      ]
    },
    {
      "cell_type": "code",
      "execution_count": 13,
      "metadata": {
        "colab": {
          "base_uri": "https://localhost:8080/",
          "height": 36
        },
        "id": "AjVLpbCG9829",
        "outputId": "0641114c-1d48-4f91-e961-530f178edf69"
      },
      "outputs": [],
      "source": [
        "output_word"
      ]
    },
    {
      "cell_type": "markdown",
      "metadata": {
        "id": "ns4h9haN15DG"
      },
      "source": [
        "## 2.4 Transformers\n",
        "\n",
        "At last it's time for current state-of-the-art approach - Transformers. Famous [GPT-2](https://openai.com/blog/better-language-models/), [BERT](https://github.com/google-research/bert), [CTRL](https://blog.einstein.ai/introducing-a-conditional-transformer-language-model-for-controllable-generation/) are all Transformers-based and produce context-sensitive embeddings like ELMo. But unlike ELMo Transformers do not use [RNN](https://en.wikipedia.org/wiki/Recurrent_neural_network), trey do not require to process words in sentence sequentially one-by-one. All words in the sentence are processed in parallel, this approach speeds up processing and solves [vanishing gradient problem](https://en.wikipedia.org/wiki/Vanishing_gradient_problem).\n",
        "\n",
        "Transformers use the [attention mechanizm](https://arxiv.org/abs/1706.03762) to describe the connections and dependencies of each specific word with all other words in the sentence. This mechanism and the main principles of Transformers described in detail in a beautifully illustrated [article](http://jalammar.github.io/illustrated-transformer/) by Jay Alammar.\n",
        "\n",
        "![alt text](http://jalammar.github.io/images/t/transformer_resideual_layer_norm_3.png) Image from[ http://jalammar.github.io](http://jalammar.github.io/illustrated-transformer/)\n",
        "\n"
      ]
    },
    {
      "cell_type": "markdown",
      "metadata": {
        "id": "zvHAQ0_tINn4"
      },
      "source": [
        "For our example we wil use brilliant [Transformers](https://huggingface.co/transformers/) library, which contains the latest Transformers-based models (such as [BERT](https://huggingface.co/transformers/model_doc/bert.html), [XLNet](https://huggingface.co/transformers/model_doc/xlnet.html), [DialoGPT](https://huggingface.co/transformers/model_doc/dialogpt.html) or [GPT-2](https://huggingface.co/transformers/model_doc/gpt2.html)).\n",
        "\n",
        "Let's make some embeddings with BERT. Firstly we will need to install Transformers library."
      ]
    },
    {
      "cell_type": "code",
      "execution_count": null,
      "metadata": {
        "colab": {
          "base_uri": "https://localhost:8080/"
        },
        "id": "Y05tZ1HmVuiD",
        "outputId": "db58e265-6fd7-40ac-934e-f5f7ff7a25c4"
      },
      "outputs": [],
      "source": [
        "!pip install transformers"
      ]
    },
    {
      "cell_type": "markdown",
      "metadata": {
        "id": "KyvVhedCO77-"
      },
      "source": [
        "Now we import pytorch, the pretrained BERT model, and a BERT tokenizer, that will do all the needed work of converting sentences into format appropriate for BERT (tokenizing itself and adding special tokens like [SEP] and [CLS])."
      ]
    },
    {
      "cell_type": "code",
      "execution_count": null,
      "metadata": {
        "colab": {
          "base_uri": "https://localhost:8080/",
          "height": 252,
          "referenced_widgets": [
            "8515e0c1696442b2887f64c8efff658b",
            "d3224ed0587e415e8eed7f38b54fac78",
            "0b5bbeaf9ca042eb9e73bb015e9fb022",
            "bd07e92fc7dd4ab4bef5188cfbdb218f",
            "e39ee4502f924d1c90c24b82c84aa8a7",
            "3885a30f047041abaeb3dd92719b557c",
            "7c42eb809a1948f287b14eb8646863ac",
            "81afa3e05cec4502a47e98d4c79f4595",
            "fd59d981f01a4f65b870363bbca77b11",
            "35459b2c199c40d1a004fb70d0d0ce9f",
            "6894d4cbdeca4fcb841199158222fc52",
            "c7573ff73d814faa9144bf7ee3d3b599",
            "989ceb27abf343099468423d2c353d1d",
            "e027f49dec4242d3a93a00f3c8cae087",
            "5c280a3b9a8c4f45a83f1e2b18a06c21",
            "c02e13df08f44766ad4f348d8f2a4db3",
            "e4c2ff30b3bf4e65856a3ae4bf78a931",
            "cb008d69b7434439a5958f940012c1bc",
            "175ad14db7084599be13a8dc54e0037f",
            "2bcc5db6c9ce4d9b8de064cbcc647e5f",
            "1a1ae0ae93c74375b244f497d997be9e",
            "45196e569f9f45ff9979367b44da26c4",
            "65bad2cf6ee74f5389dad2a8bb5e4256",
            "8887ac2ccd3d43b5ae6b7f55233b7dbb",
            "50a1b5456c6f46f69b164d95122e48e9",
            "79b75cb89f92408689eb1982d352def0",
            "4d553cb1da1245a88506e628ac09a563",
            "0a8ec87ee0aa42ef95abde448bc9b18a",
            "3e02dce980644bca84df3bcf4ca203b0",
            "bfa993120a804d04a31070539417c057",
            "f5cd44201e3f4f06a48a59209c515e87",
            "243740eb6d2c4c008958f290fc6c3fef",
            "2f0eeaa9e0b24fcdb73d79002f895b37",
            "84b80fb4bada4b409604d5a3e32ccab4",
            "b8229a6ae8144e5d866236dae44b207d",
            "1f0f12b28589447ba479ee587485bc1d",
            "ab7ed36eb2a24816848675c006942222",
            "28fbe1083f0e4432add62907b1ceab4a",
            "97baebf18813443e905c917f2850fe35",
            "94ec58f423d949f28b485360a453b5d3",
            "43f7a0cea58c41a59126da9e62ff9f4d",
            "20df8f48d2a74f0698617ee724e4758e",
            "2b77841edefb4731af1c7ece67cc5a4d",
            "869f241d0be74eac9db6813a0a6a08d1"
          ]
        },
        "id": "SQgQVUWBE3uK",
        "outputId": "16372e7f-1f16-43dc-9945-2ea64264a312"
      },
      "outputs": [],
      "source": [
        "import torch\n",
        "torch.manual_seed(0)\n",
        "from transformers import BertTokenizer, BertModel\n",
        "\n",
        "import logging\n",
        "import matplotlib.pyplot as plt\n",
        "\n",
        "\n",
        "# Load pre-trained model tokenizer (vocabulary)\n",
        "tokenizer = BertTokenizer.from_pretrained('bert-base-uncased', do_lower_case=True)"
      ]
    },
    {
      "cell_type": "markdown",
      "metadata": {
        "id": "RoKGZPu1dnDz"
      },
      "source": [
        "Enter some sentences and tokenize them."
      ]
    },
    {
      "cell_type": "code",
      "execution_count": null,
      "metadata": {
        "colab": {
          "base_uri": "https://localhost:8080/"
        },
        "id": "WQiMtrxHPyYz",
        "outputId": "39d56471-8b3c-429a-cc09-dd0f0966e8cb"
      },
      "outputs": [],
      "source": [
        "sentences =  \\\n",
        "['king arthur, also called arthur or aathur pendragon, legendary british king who appears in a cycle of \\\n",
        "medieval romances (known as the matter of britain) as the sovereign of a knightly fellowship of the round table.',\n",
        "'it is not certain how these legends originated or whether the figure of arthur was based on a historical person.',\n",
        "'the legend possibly originated either in wales or in those parts of northern britain inhabited by brythonic-speaking celts.',\n",
        "'for a fuller treatment of the stories about king arthur, see also arthurian legend.']\n",
        "\n",
        "sentences"
      ]
    },
    {
      "cell_type": "code",
      "execution_count": null,
      "metadata": {
        "colab": {
          "base_uri": "https://localhost:8080/"
        },
        "id": "dIgUC1H-Qq3s",
        "outputId": "e7a5d6df-a34b-4e72-f367-0a75ce53e965"
      },
      "outputs": [],
      "source": [
        "# Print the original sentence.\n",
        "print(' Original: ', sentences[0][:99])\n",
        "\n",
        "# Print the sentence split into tokens.\n",
        "print('Tokenized: ', tokenizer.tokenize(sentences[0])[:15])\n",
        "\n",
        "# Print the sentence mapped to token ids.\n",
        "print('Token IDs: ', tokenizer.convert_tokens_to_ids(tokenizer.tokenize(sentences[0]))[:15])\n"
      ]
    },
    {
      "cell_type": "markdown",
      "metadata": {
        "id": "8CLrBzF0Xor1"
      },
      "source": [
        "Note that some tokens may look like this: ['aa', '##th', '##ur', 'pen', '##dra', '##gon']. This is because of the BERT tokenizer was created with a WordPiece model. This model greedily creates a fixed-size vocabulary of individual characters, subwords, and words that best fits our language data. BERT tokenizer uses vocabulary that contains all English characters plus the ~30,000 most common words and subwords found in the English language corpus the model is trained on. So, if the word is not mentioned in a vocabulary, that words is splitted into subwords and characters.  The two hash signs (##) before some subwords shows that subword is part of a larger word and preceded by another subword.   "
      ]
    },
    {
      "cell_type": "markdown",
      "metadata": {
        "id": "wJj-lGP-W0me"
      },
      "source": [
        "We will use tokenizer.encode_plus function, that will:\n",
        "\n",
        "- Split the sentence into tokens.\n",
        "- Add the special [CLS] and [SEP] tokens.\n",
        "- Map the tokens to their IDs.\n",
        "- Pad or truncate all sentences to the same length.\n",
        "- Create the attention masks which explicitly differentiate real tokens from [PAD] tokens.\n"
      ]
    },
    {
      "cell_type": "code",
      "execution_count": null,
      "metadata": {
        "colab": {
          "base_uri": "https://localhost:8080/"
        },
        "id": "CvZPrF5fWzTZ",
        "outputId": "9b83a46f-f9e0-422f-f760-4267a73f92a1"
      },
      "outputs": [],
      "source": [
        "# Tokenize all of the sentences and map the tokens to thier word IDs.\n",
        "input_ids = []\n",
        "attention_masks = []\n",
        "tokenized_texts = []\n",
        "\n",
        "for sent in sentences:\n",
        "    encoded_dict = tokenizer.encode_plus(\n",
        "        sent,\n",
        "        add_special_tokens=True,\n",
        "        truncation=True,\n",
        "        max_length=48,\n",
        "        padding='max_length',\n",
        "        return_tensors='pt',\n",
        "        return_attention_mask=True\n",
        "    )\n",
        "\n",
        "    tokenized_texts.append(tokenizer.tokenize(\"[CLS] \" + sent + \" [SEP]\"))\n",
        "    input_ids.append(encoded_dict['input_ids'])\n",
        "    attention_masks.append(encoded_dict['attention_mask'])\n",
        "\n",
        "# Convert lists to tensors\n",
        "input_ids = torch.cat(input_ids, dim=0)\n",
        "attention_masks = torch.cat(attention_masks, dim=0)\n",
        "\n",
        "# Print results\n",
        "print('Token IDs:', input_ids[0])\n",
        "print('Tokenized (first 15):', tokenizer.tokenize(sentences[0])[:15])\n",
        "print('Token ID values (first 15):', tokenizer.convert_tokens_to_ids(tokenizer.tokenize(sentences[0]))[:15])"
      ]
    },
    {
      "cell_type": "markdown",
      "metadata": {
        "id": "l-HG1Chbh2da"
      },
      "source": [
        "**Segment ID**. BERT is trained on and expects sentence pairs using 1s and 0s to distinguish between the two sentences. We will encode each sentence separately so we will just mark each token in each sentence with 1."
      ]
    },
    {
      "cell_type": "code",
      "execution_count": null,
      "metadata": {
        "colab": {
          "base_uri": "https://localhost:8080/"
        },
        "id": "0LjE5M-Qfzxg",
        "outputId": "69c53c6a-4df2-457e-ca0a-0da1bf83a308"
      },
      "outputs": [],
      "source": [
        "segments_ids = torch.ones_like(input_ids)\n",
        "segments_ids.shape"
      ]
    },
    {
      "cell_type": "markdown",
      "metadata": {
        "id": "tAlTfj9nlItq"
      },
      "source": [
        "Now we can call BERT model and finally get embeddings."
      ]
    },
    {
      "cell_type": "code",
      "execution_count": null,
      "metadata": {
        "colab": {
          "base_uri": "https://localhost:8080/",
          "height": 49,
          "referenced_widgets": [
            "f4008a6a557f4efd9e417e52c6914baa",
            "f7d733d702a647a9b6d7957c63492a86",
            "7e3437afaeb0488c9ae8903e1f5aeaeb",
            "8cf386e212a24e50b2851aa0bab8bb44",
            "3be7cfc2f9ed47d98524e6953d99b36b",
            "bb12e39d70d14bf0a6452c9752feb0e4",
            "7ea35dcc13294af0a5fd53b0e9da75af",
            "e0838318929442b1beb114588342533d",
            "b984ffb2f6bc40328de5526175dcfbc5",
            "6bd6a39582fa4eec85ff0c4d46ae8cbe",
            "d155f09c8d634a96a73c5b6ec4cb67a3"
          ]
        },
        "id": "xbI_5u3AlEFt",
        "outputId": "20b4fbcd-647c-4e55-faca-ddff333e4d9e"
      },
      "outputs": [],
      "source": [
        "model = BertModel.from_pretrained('bert-base-uncased',\n",
        "                                  output_hidden_states = True, # Whether the model returns all hidden-states.\n",
        "                                  )\n",
        "model.eval();"
      ]
    },
    {
      "cell_type": "code",
      "execution_count": null,
      "metadata": {
        "id": "zhj427SijVU4"
      },
      "outputs": [],
      "source": [
        "with torch.no_grad():\n",
        "\n",
        "    outputs = model(input_ids, segments_ids)\n",
        "\n",
        "    # Evaluating the model will return a different number of objects based on\n",
        "    # how it's  configured in the `from_pretrained` call earlier. In this case,\n",
        "    # becase we set `output_hidden_states = True`, the third item will be the\n",
        "    # hidden states from all layers. See the documentation for more details:\n",
        "    # https://huggingface.co/transformers/model_doc/bert.html#bertmodel\n",
        "    hidden_states = outputs[2]"
      ]
    },
    {
      "cell_type": "markdown",
      "metadata": {
        "id": "nCKyebgprKLG"
      },
      "source": [
        "Let's examine what we've got."
      ]
    },
    {
      "cell_type": "code",
      "execution_count": null,
      "metadata": {
        "colab": {
          "base_uri": "https://localhost:8080/"
        },
        "id": "KRgeWRVHrRHK",
        "outputId": "ea107fa0-57e2-43ac-b57e-effc6fe64082"
      },
      "outputs": [],
      "source": [
        "print (\"Number of layers:\", len(hidden_states), \"  (initial embeddings + 12 BERT layers)\")\n",
        "print (\"Number of batches:\", len(hidden_states[0]))\n",
        "print (\"Number of tokens:\", len(hidden_states[0][0]))\n",
        "print (\"Number of hidden units:\", len(hidden_states[0][0][0]))\n"
      ]
    },
    {
      "cell_type": "code",
      "execution_count": null,
      "metadata": {
        "colab": {
          "base_uri": "https://localhost:8080/"
        },
        "id": "t9ecIgL1mdox",
        "outputId": "ca0f8089-f87e-4066-b4d3-fc37ba7589bf"
      },
      "outputs": [],
      "source": [
        "# Concatenate the tensors for all layers. We use `stack` here to\n",
        "# create a new dimension in the tensor.\n",
        "token_embeddings = torch.stack(hidden_states, dim=0)\n",
        "\n",
        "token_embeddings.size()"
      ]
    },
    {
      "cell_type": "code",
      "execution_count": null,
      "metadata": {
        "colab": {
          "base_uri": "https://localhost:8080/"
        },
        "id": "_YcTplZDq_Ip",
        "outputId": "bc4cf3c7-c2de-4490-9a65-734e3e00452d"
      },
      "outputs": [],
      "source": [
        "# Swap dimensions, so we get tensors in format: [sentence, tokens, hidden layes, features]\n",
        "token_embeddings = token_embeddings.permute(1,2,0,3)\n",
        "\n",
        "token_embeddings.size()"
      ]
    },
    {
      "cell_type": "code",
      "execution_count": null,
      "metadata": {
        "colab": {
          "base_uri": "https://localhost:8080/"
        },
        "id": "Hm6lbPc2s0k9",
        "outputId": "1a14ec2a-52d2-4d46-91a3-27da7c3f63a6"
      },
      "outputs": [],
      "source": [
        "# we will use last four hidden layers to create each word embedding\n",
        "\n",
        "processed_embeddings = token_embeddings[:, :, 9:, :]\n",
        "processed_embeddings.shape"
      ]
    },
    {
      "cell_type": "code",
      "execution_count": null,
      "metadata": {
        "colab": {
          "base_uri": "https://localhost:8080/"
        },
        "id": "q908hPTzxnMU",
        "outputId": "49db2090-8b7c-4233-e530-2f2aa89453e5"
      },
      "outputs": [],
      "source": [
        "# Concatenate four layers for each token to create embeddings\n",
        "\n",
        "embeddings = torch.reshape(processed_embeddings, (4, 48, -1))\n",
        "embeddings.shape"
      ]
    },
    {
      "cell_type": "markdown",
      "metadata": {
        "id": "CgzGSE0UEfGK"
      },
      "source": [
        "Let's examine embeddings for the first sentence. Firstly we need to get ids of tokens we need to compare."
      ]
    },
    {
      "cell_type": "code",
      "execution_count": null,
      "metadata": {
        "colab": {
          "base_uri": "https://localhost:8080/"
        },
        "id": "FbTQaukmzM1v",
        "outputId": "dffe51a8-1f1a-475e-ae35-d430b2d091ef"
      },
      "outputs": [],
      "source": [
        "for i, token_str in enumerate(tokenized_texts[0]):\n",
        "  print (i, token_str)"
      ]
    },
    {
      "cell_type": "markdown",
      "metadata": {
        "id": "mmunweJ427pw"
      },
      "source": [
        "We can see that word 'king' is places at indexes 1 and 17. We will check distance between embeddings 1 and 17. Also, we will check if embedding for word 'arthur' is closer to king then word 'table'."
      ]
    },
    {
      "cell_type": "code",
      "execution_count": null,
      "metadata": {
        "colab": {
          "base_uri": "https://localhost:8080/"
        },
        "id": "NDVo-mBtzi_3",
        "outputId": "0be036ba-bfdb-439d-a10b-2cc30f886cc1"
      },
      "outputs": [],
      "source": [
        "from scipy.spatial.distance import cosine\n",
        "\n",
        "kings = cosine(embeddings[0][1], embeddings[0][17])\n",
        "king_table = cosine(embeddings[0][1], embeddings[0][46])\n",
        "king_archtur = cosine(embeddings[0][2], embeddings[0][1])\n",
        "\n",
        "print('Distance for two kings:  %.2f' % kings)\n",
        "print('Distance from king to table:  %.2f' % king_table)\n",
        "print('Distance from Archtur to king:  %.2f' % king_archtur)"
      ]
    },
    {
      "cell_type": "markdown",
      "metadata": {
        "id": "qmYn9mPB5hcr"
      },
      "source": [
        "So we see that embeddings for two 'kings' are quite similar but not same, and Archtur is closer to be a king than a table."
      ]
    },
    {
      "cell_type": "code",
      "execution_count": null,
      "metadata": {
        "colab": {
          "base_uri": "https://localhost:8080/"
        },
        "id": "3Nxt8rIFQdDO",
        "outputId": "8616185c-5498-4384-f26a-2f8cfa8480e9"
      },
      "outputs": [],
      "source": [
        "!pip install bertviz"
      ]
    },
    {
      "cell_type": "code",
      "execution_count": null,
      "metadata": {
        "colab": {
          "base_uri": "https://localhost:8080/",
          "height": 333
        },
        "id": "seCRckfpQiCP",
        "outputId": "8bee4a49-e4b4-4623-cc98-3621bb275dce"
      },
      "outputs": [],
      "source": [
        "from transformers import BertTokenizer, BertModel\n",
        "from bertviz import head_view\n",
        "import torch\n",
        "\n",
        "# Step 1: Load model with attention outputs\n",
        "model_name = 'bert-base-uncased'\n",
        "tokenizer = BertTokenizer.from_pretrained(model_name)\n",
        "model = BertModel.from_pretrained(model_name, output_attentions=True)\n",
        "model.eval()\n",
        "\n",
        "# Step 2: Prepare a single sentence (head_view only supports one at a time)\n",
        "sentence = \"King Arthur was a legendary British king.\"\n",
        "inputs = tokenizer(sentence, return_tensors='pt')\n",
        "\n",
        "# Step 3: Forward pass with attention outputs\n",
        "with torch.no_grad():\n",
        "    outputs = model(**inputs)\n",
        "    attention = outputs.attentions  # a tuple with attention maps from each layer\n",
        "\n",
        "# Step 4: Use head_view\n",
        "head_view(attention, tokenizer.convert_ids_to_tokens(inputs['input_ids'][0]))"
      ]
    },
    {
      "cell_type": "markdown",
      "metadata": {
        "id": "XxnDjaFYMolw"
      },
      "source": [
        "## References\n",
        "\n",
        "- [BERT Word Embeddings Tutorial](https://mccormickml.com/2019/05/14/BERT-word-embeddings-tutorial/)\n",
        "- [The Illustrated Transformer](http://jalammar.github.io/illustrated-transformer/)\n",
        "- [The Illustrated GPT-2 (Visualizing Transformer Language Models)](http://jalammar.github.io/illustrated-gpt2/)\n",
        "- [FROM Pre-trained Word Embeddings TO Pre-trained Language Models — Focus on BERT](https://towardsdatascience.com/from-pre-trained-word-embeddings-to-pre-trained-language-models-focus-on-bert-343815627598)\n",
        "- [ Make your own Rick Sanchez (bot) with Transformers and DialoGPT fine-tuning](https://towardsdatascience.com/make-your-own-rick-sanchez-bot-with-transformers-and-dialogpt-fine-tuning-f85e6d1f4e30)\n",
        "- [Playing with word vectors](https://medium.com/swlh/playing-with-word-vectors-308ab2faa519)\n",
        "- [Intuitive Guide to Understanding GloVe Embeddings](https://towardsdatascience.com/light-on-math-ml-intuitive-guide-to-understanding-glove-embeddings-b13b4f19c010)\n",
        "- [Word Embeddings in Python with Spacy and Gensim](https://www.shanelynn.ie/word-embeddings-in-python-with-spacy-and-gensim/)\n",
        "- [Brief review of word embedding families (2019) ](https://medium.com/analytics-vidhya/brief-review-of-word-embedding-families-2019-b2bbc601bbfe)\n",
        "- [Word embeddings: exploration, explanation, and exploitation (with code in Python)](https://towardsdatascience.com/word-embeddings-exploration-explanation-and-exploitation-with-code-in-python-5dac99d5d795)"
      ]
    },
    {
      "cell_type": "code",
      "execution_count": null,
      "metadata": {
        "id": "-IXkbDV1kUz7"
      },
      "outputs": [],
      "source": []
    }
  ],
  "metadata": {
    "accelerator": "GPU",
    "colab": {
      "gpuType": "T4",
      "provenance": []
    },
    "kernelspec": {
      "display_name": "Python 3",
      "name": "python3"
    },
    "widgets": {
      "application/vnd.jupyter.widget-state+json": {
        "0a8ec87ee0aa42ef95abde448bc9b18a": {
          "model_module": "@jupyter-widgets/base",
          "model_module_version": "1.2.0",
          "model_name": "LayoutModel",
          "state": {
            "_model_module": "@jupyter-widgets/base",
            "_model_module_version": "1.2.0",
            "_model_name": "LayoutModel",
            "_view_count": null,
            "_view_module": "@jupyter-widgets/base",
            "_view_module_version": "1.2.0",
            "_view_name": "LayoutView",
            "align_content": null,
            "align_items": null,
            "align_self": null,
            "border": null,
            "bottom": null,
            "display": null,
            "flex": null,
            "flex_flow": null,
            "grid_area": null,
            "grid_auto_columns": null,
            "grid_auto_flow": null,
            "grid_auto_rows": null,
            "grid_column": null,
            "grid_gap": null,
            "grid_row": null,
            "grid_template_areas": null,
            "grid_template_columns": null,
            "grid_template_rows": null,
            "height": null,
            "justify_content": null,
            "justify_items": null,
            "left": null,
            "margin": null,
            "max_height": null,
            "max_width": null,
            "min_height": null,
            "min_width": null,
            "object_fit": null,
            "object_position": null,
            "order": null,
            "overflow": null,
            "overflow_x": null,
            "overflow_y": null,
            "padding": null,
            "right": null,
            "top": null,
            "visibility": null,
            "width": null
          }
        },
        "0b5bbeaf9ca042eb9e73bb015e9fb022": {
          "model_module": "@jupyter-widgets/controls",
          "model_module_version": "1.5.0",
          "model_name": "FloatProgressModel",
          "state": {
            "_dom_classes": [],
            "_model_module": "@jupyter-widgets/controls",
            "_model_module_version": "1.5.0",
            "_model_name": "FloatProgressModel",
            "_view_count": null,
            "_view_module": "@jupyter-widgets/controls",
            "_view_module_version": "1.5.0",
            "_view_name": "ProgressView",
            "bar_style": "success",
            "description": "",
            "description_tooltip": null,
            "layout": "IPY_MODEL_81afa3e05cec4502a47e98d4c79f4595",
            "max": 48,
            "min": 0,
            "orientation": "horizontal",
            "style": "IPY_MODEL_fd59d981f01a4f65b870363bbca77b11",
            "value": 48
          }
        },
        "175ad14db7084599be13a8dc54e0037f": {
          "model_module": "@jupyter-widgets/base",
          "model_module_version": "1.2.0",
          "model_name": "LayoutModel",
          "state": {
            "_model_module": "@jupyter-widgets/base",
            "_model_module_version": "1.2.0",
            "_model_name": "LayoutModel",
            "_view_count": null,
            "_view_module": "@jupyter-widgets/base",
            "_view_module_version": "1.2.0",
            "_view_name": "LayoutView",
            "align_content": null,
            "align_items": null,
            "align_self": null,
            "border": null,
            "bottom": null,
            "display": null,
            "flex": null,
            "flex_flow": null,
            "grid_area": null,
            "grid_auto_columns": null,
            "grid_auto_flow": null,
            "grid_auto_rows": null,
            "grid_column": null,
            "grid_gap": null,
            "grid_row": null,
            "grid_template_areas": null,
            "grid_template_columns": null,
            "grid_template_rows": null,
            "height": null,
            "justify_content": null,
            "justify_items": null,
            "left": null,
            "margin": null,
            "max_height": null,
            "max_width": null,
            "min_height": null,
            "min_width": null,
            "object_fit": null,
            "object_position": null,
            "order": null,
            "overflow": null,
            "overflow_x": null,
            "overflow_y": null,
            "padding": null,
            "right": null,
            "top": null,
            "visibility": null,
            "width": null
          }
        },
        "1a1ae0ae93c74375b244f497d997be9e": {
          "model_module": "@jupyter-widgets/base",
          "model_module_version": "1.2.0",
          "model_name": "LayoutModel",
          "state": {
            "_model_module": "@jupyter-widgets/base",
            "_model_module_version": "1.2.0",
            "_model_name": "LayoutModel",
            "_view_count": null,
            "_view_module": "@jupyter-widgets/base",
            "_view_module_version": "1.2.0",
            "_view_name": "LayoutView",
            "align_content": null,
            "align_items": null,
            "align_self": null,
            "border": null,
            "bottom": null,
            "display": null,
            "flex": null,
            "flex_flow": null,
            "grid_area": null,
            "grid_auto_columns": null,
            "grid_auto_flow": null,
            "grid_auto_rows": null,
            "grid_column": null,
            "grid_gap": null,
            "grid_row": null,
            "grid_template_areas": null,
            "grid_template_columns": null,
            "grid_template_rows": null,
            "height": null,
            "justify_content": null,
            "justify_items": null,
            "left": null,
            "margin": null,
            "max_height": null,
            "max_width": null,
            "min_height": null,
            "min_width": null,
            "object_fit": null,
            "object_position": null,
            "order": null,
            "overflow": null,
            "overflow_x": null,
            "overflow_y": null,
            "padding": null,
            "right": null,
            "top": null,
            "visibility": null,
            "width": null
          }
        },
        "1f0f12b28589447ba479ee587485bc1d": {
          "model_module": "@jupyter-widgets/controls",
          "model_module_version": "1.5.0",
          "model_name": "FloatProgressModel",
          "state": {
            "_dom_classes": [],
            "_model_module": "@jupyter-widgets/controls",
            "_model_module_version": "1.5.0",
            "_model_name": "FloatProgressModel",
            "_view_count": null,
            "_view_module": "@jupyter-widgets/controls",
            "_view_module_version": "1.5.0",
            "_view_name": "ProgressView",
            "bar_style": "success",
            "description": "",
            "description_tooltip": null,
            "layout": "IPY_MODEL_43f7a0cea58c41a59126da9e62ff9f4d",
            "max": 570,
            "min": 0,
            "orientation": "horizontal",
            "style": "IPY_MODEL_20df8f48d2a74f0698617ee724e4758e",
            "value": 570
          }
        },
        "20df8f48d2a74f0698617ee724e4758e": {
          "model_module": "@jupyter-widgets/controls",
          "model_module_version": "1.5.0",
          "model_name": "ProgressStyleModel",
          "state": {
            "_model_module": "@jupyter-widgets/controls",
            "_model_module_version": "1.5.0",
            "_model_name": "ProgressStyleModel",
            "_view_count": null,
            "_view_module": "@jupyter-widgets/base",
            "_view_module_version": "1.2.0",
            "_view_name": "StyleView",
            "bar_color": null,
            "description_width": ""
          }
        },
        "243740eb6d2c4c008958f290fc6c3fef": {
          "model_module": "@jupyter-widgets/base",
          "model_module_version": "1.2.0",
          "model_name": "LayoutModel",
          "state": {
            "_model_module": "@jupyter-widgets/base",
            "_model_module_version": "1.2.0",
            "_model_name": "LayoutModel",
            "_view_count": null,
            "_view_module": "@jupyter-widgets/base",
            "_view_module_version": "1.2.0",
            "_view_name": "LayoutView",
            "align_content": null,
            "align_items": null,
            "align_self": null,
            "border": null,
            "bottom": null,
            "display": null,
            "flex": null,
            "flex_flow": null,
            "grid_area": null,
            "grid_auto_columns": null,
            "grid_auto_flow": null,
            "grid_auto_rows": null,
            "grid_column": null,
            "grid_gap": null,
            "grid_row": null,
            "grid_template_areas": null,
            "grid_template_columns": null,
            "grid_template_rows": null,
            "height": null,
            "justify_content": null,
            "justify_items": null,
            "left": null,
            "margin": null,
            "max_height": null,
            "max_width": null,
            "min_height": null,
            "min_width": null,
            "object_fit": null,
            "object_position": null,
            "order": null,
            "overflow": null,
            "overflow_x": null,
            "overflow_y": null,
            "padding": null,
            "right": null,
            "top": null,
            "visibility": null,
            "width": null
          }
        },
        "28fbe1083f0e4432add62907b1ceab4a": {
          "model_module": "@jupyter-widgets/base",
          "model_module_version": "1.2.0",
          "model_name": "LayoutModel",
          "state": {
            "_model_module": "@jupyter-widgets/base",
            "_model_module_version": "1.2.0",
            "_model_name": "LayoutModel",
            "_view_count": null,
            "_view_module": "@jupyter-widgets/base",
            "_view_module_version": "1.2.0",
            "_view_name": "LayoutView",
            "align_content": null,
            "align_items": null,
            "align_self": null,
            "border": null,
            "bottom": null,
            "display": null,
            "flex": null,
            "flex_flow": null,
            "grid_area": null,
            "grid_auto_columns": null,
            "grid_auto_flow": null,
            "grid_auto_rows": null,
            "grid_column": null,
            "grid_gap": null,
            "grid_row": null,
            "grid_template_areas": null,
            "grid_template_columns": null,
            "grid_template_rows": null,
            "height": null,
            "justify_content": null,
            "justify_items": null,
            "left": null,
            "margin": null,
            "max_height": null,
            "max_width": null,
            "min_height": null,
            "min_width": null,
            "object_fit": null,
            "object_position": null,
            "order": null,
            "overflow": null,
            "overflow_x": null,
            "overflow_y": null,
            "padding": null,
            "right": null,
            "top": null,
            "visibility": null,
            "width": null
          }
        },
        "2b77841edefb4731af1c7ece67cc5a4d": {
          "model_module": "@jupyter-widgets/base",
          "model_module_version": "1.2.0",
          "model_name": "LayoutModel",
          "state": {
            "_model_module": "@jupyter-widgets/base",
            "_model_module_version": "1.2.0",
            "_model_name": "LayoutModel",
            "_view_count": null,
            "_view_module": "@jupyter-widgets/base",
            "_view_module_version": "1.2.0",
            "_view_name": "LayoutView",
            "align_content": null,
            "align_items": null,
            "align_self": null,
            "border": null,
            "bottom": null,
            "display": null,
            "flex": null,
            "flex_flow": null,
            "grid_area": null,
            "grid_auto_columns": null,
            "grid_auto_flow": null,
            "grid_auto_rows": null,
            "grid_column": null,
            "grid_gap": null,
            "grid_row": null,
            "grid_template_areas": null,
            "grid_template_columns": null,
            "grid_template_rows": null,
            "height": null,
            "justify_content": null,
            "justify_items": null,
            "left": null,
            "margin": null,
            "max_height": null,
            "max_width": null,
            "min_height": null,
            "min_width": null,
            "object_fit": null,
            "object_position": null,
            "order": null,
            "overflow": null,
            "overflow_x": null,
            "overflow_y": null,
            "padding": null,
            "right": null,
            "top": null,
            "visibility": null,
            "width": null
          }
        },
        "2bcc5db6c9ce4d9b8de064cbcc647e5f": {
          "model_module": "@jupyter-widgets/controls",
          "model_module_version": "1.5.0",
          "model_name": "ProgressStyleModel",
          "state": {
            "_model_module": "@jupyter-widgets/controls",
            "_model_module_version": "1.5.0",
            "_model_name": "ProgressStyleModel",
            "_view_count": null,
            "_view_module": "@jupyter-widgets/base",
            "_view_module_version": "1.2.0",
            "_view_name": "StyleView",
            "bar_color": null,
            "description_width": ""
          }
        },
        "2f0eeaa9e0b24fcdb73d79002f895b37": {
          "model_module": "@jupyter-widgets/controls",
          "model_module_version": "1.5.0",
          "model_name": "DescriptionStyleModel",
          "state": {
            "_model_module": "@jupyter-widgets/controls",
            "_model_module_version": "1.5.0",
            "_model_name": "DescriptionStyleModel",
            "_view_count": null,
            "_view_module": "@jupyter-widgets/base",
            "_view_module_version": "1.2.0",
            "_view_name": "StyleView",
            "description_width": ""
          }
        },
        "35459b2c199c40d1a004fb70d0d0ce9f": {
          "model_module": "@jupyter-widgets/base",
          "model_module_version": "1.2.0",
          "model_name": "LayoutModel",
          "state": {
            "_model_module": "@jupyter-widgets/base",
            "_model_module_version": "1.2.0",
            "_model_name": "LayoutModel",
            "_view_count": null,
            "_view_module": "@jupyter-widgets/base",
            "_view_module_version": "1.2.0",
            "_view_name": "LayoutView",
            "align_content": null,
            "align_items": null,
            "align_self": null,
            "border": null,
            "bottom": null,
            "display": null,
            "flex": null,
            "flex_flow": null,
            "grid_area": null,
            "grid_auto_columns": null,
            "grid_auto_flow": null,
            "grid_auto_rows": null,
            "grid_column": null,
            "grid_gap": null,
            "grid_row": null,
            "grid_template_areas": null,
            "grid_template_columns": null,
            "grid_template_rows": null,
            "height": null,
            "justify_content": null,
            "justify_items": null,
            "left": null,
            "margin": null,
            "max_height": null,
            "max_width": null,
            "min_height": null,
            "min_width": null,
            "object_fit": null,
            "object_position": null,
            "order": null,
            "overflow": null,
            "overflow_x": null,
            "overflow_y": null,
            "padding": null,
            "right": null,
            "top": null,
            "visibility": null,
            "width": null
          }
        },
        "3885a30f047041abaeb3dd92719b557c": {
          "model_module": "@jupyter-widgets/base",
          "model_module_version": "1.2.0",
          "model_name": "LayoutModel",
          "state": {
            "_model_module": "@jupyter-widgets/base",
            "_model_module_version": "1.2.0",
            "_model_name": "LayoutModel",
            "_view_count": null,
            "_view_module": "@jupyter-widgets/base",
            "_view_module_version": "1.2.0",
            "_view_name": "LayoutView",
            "align_content": null,
            "align_items": null,
            "align_self": null,
            "border": null,
            "bottom": null,
            "display": null,
            "flex": null,
            "flex_flow": null,
            "grid_area": null,
            "grid_auto_columns": null,
            "grid_auto_flow": null,
            "grid_auto_rows": null,
            "grid_column": null,
            "grid_gap": null,
            "grid_row": null,
            "grid_template_areas": null,
            "grid_template_columns": null,
            "grid_template_rows": null,
            "height": null,
            "justify_content": null,
            "justify_items": null,
            "left": null,
            "margin": null,
            "max_height": null,
            "max_width": null,
            "min_height": null,
            "min_width": null,
            "object_fit": null,
            "object_position": null,
            "order": null,
            "overflow": null,
            "overflow_x": null,
            "overflow_y": null,
            "padding": null,
            "right": null,
            "top": null,
            "visibility": null,
            "width": null
          }
        },
        "3be7cfc2f9ed47d98524e6953d99b36b": {
          "model_module": "@jupyter-widgets/base",
          "model_module_version": "1.2.0",
          "model_name": "LayoutModel",
          "state": {
            "_model_module": "@jupyter-widgets/base",
            "_model_module_version": "1.2.0",
            "_model_name": "LayoutModel",
            "_view_count": null,
            "_view_module": "@jupyter-widgets/base",
            "_view_module_version": "1.2.0",
            "_view_name": "LayoutView",
            "align_content": null,
            "align_items": null,
            "align_self": null,
            "border": null,
            "bottom": null,
            "display": null,
            "flex": null,
            "flex_flow": null,
            "grid_area": null,
            "grid_auto_columns": null,
            "grid_auto_flow": null,
            "grid_auto_rows": null,
            "grid_column": null,
            "grid_gap": null,
            "grid_row": null,
            "grid_template_areas": null,
            "grid_template_columns": null,
            "grid_template_rows": null,
            "height": null,
            "justify_content": null,
            "justify_items": null,
            "left": null,
            "margin": null,
            "max_height": null,
            "max_width": null,
            "min_height": null,
            "min_width": null,
            "object_fit": null,
            "object_position": null,
            "order": null,
            "overflow": null,
            "overflow_x": null,
            "overflow_y": null,
            "padding": null,
            "right": null,
            "top": null,
            "visibility": null,
            "width": null
          }
        },
        "3e02dce980644bca84df3bcf4ca203b0": {
          "model_module": "@jupyter-widgets/controls",
          "model_module_version": "1.5.0",
          "model_name": "DescriptionStyleModel",
          "state": {
            "_model_module": "@jupyter-widgets/controls",
            "_model_module_version": "1.5.0",
            "_model_name": "DescriptionStyleModel",
            "_view_count": null,
            "_view_module": "@jupyter-widgets/base",
            "_view_module_version": "1.2.0",
            "_view_name": "StyleView",
            "description_width": ""
          }
        },
        "43f7a0cea58c41a59126da9e62ff9f4d": {
          "model_module": "@jupyter-widgets/base",
          "model_module_version": "1.2.0",
          "model_name": "LayoutModel",
          "state": {
            "_model_module": "@jupyter-widgets/base",
            "_model_module_version": "1.2.0",
            "_model_name": "LayoutModel",
            "_view_count": null,
            "_view_module": "@jupyter-widgets/base",
            "_view_module_version": "1.2.0",
            "_view_name": "LayoutView",
            "align_content": null,
            "align_items": null,
            "align_self": null,
            "border": null,
            "bottom": null,
            "display": null,
            "flex": null,
            "flex_flow": null,
            "grid_area": null,
            "grid_auto_columns": null,
            "grid_auto_flow": null,
            "grid_auto_rows": null,
            "grid_column": null,
            "grid_gap": null,
            "grid_row": null,
            "grid_template_areas": null,
            "grid_template_columns": null,
            "grid_template_rows": null,
            "height": null,
            "justify_content": null,
            "justify_items": null,
            "left": null,
            "margin": null,
            "max_height": null,
            "max_width": null,
            "min_height": null,
            "min_width": null,
            "object_fit": null,
            "object_position": null,
            "order": null,
            "overflow": null,
            "overflow_x": null,
            "overflow_y": null,
            "padding": null,
            "right": null,
            "top": null,
            "visibility": null,
            "width": null
          }
        },
        "45196e569f9f45ff9979367b44da26c4": {
          "model_module": "@jupyter-widgets/controls",
          "model_module_version": "1.5.0",
          "model_name": "DescriptionStyleModel",
          "state": {
            "_model_module": "@jupyter-widgets/controls",
            "_model_module_version": "1.5.0",
            "_model_name": "DescriptionStyleModel",
            "_view_count": null,
            "_view_module": "@jupyter-widgets/base",
            "_view_module_version": "1.2.0",
            "_view_name": "StyleView",
            "description_width": ""
          }
        },
        "4d553cb1da1245a88506e628ac09a563": {
          "model_module": "@jupyter-widgets/base",
          "model_module_version": "1.2.0",
          "model_name": "LayoutModel",
          "state": {
            "_model_module": "@jupyter-widgets/base",
            "_model_module_version": "1.2.0",
            "_model_name": "LayoutModel",
            "_view_count": null,
            "_view_module": "@jupyter-widgets/base",
            "_view_module_version": "1.2.0",
            "_view_name": "LayoutView",
            "align_content": null,
            "align_items": null,
            "align_self": null,
            "border": null,
            "bottom": null,
            "display": null,
            "flex": null,
            "flex_flow": null,
            "grid_area": null,
            "grid_auto_columns": null,
            "grid_auto_flow": null,
            "grid_auto_rows": null,
            "grid_column": null,
            "grid_gap": null,
            "grid_row": null,
            "grid_template_areas": null,
            "grid_template_columns": null,
            "grid_template_rows": null,
            "height": null,
            "justify_content": null,
            "justify_items": null,
            "left": null,
            "margin": null,
            "max_height": null,
            "max_width": null,
            "min_height": null,
            "min_width": null,
            "object_fit": null,
            "object_position": null,
            "order": null,
            "overflow": null,
            "overflow_x": null,
            "overflow_y": null,
            "padding": null,
            "right": null,
            "top": null,
            "visibility": null,
            "width": null
          }
        },
        "50a1b5456c6f46f69b164d95122e48e9": {
          "model_module": "@jupyter-widgets/controls",
          "model_module_version": "1.5.0",
          "model_name": "FloatProgressModel",
          "state": {
            "_dom_classes": [],
            "_model_module": "@jupyter-widgets/controls",
            "_model_module_version": "1.5.0",
            "_model_name": "FloatProgressModel",
            "_view_count": null,
            "_view_module": "@jupyter-widgets/controls",
            "_view_module_version": "1.5.0",
            "_view_name": "ProgressView",
            "bar_style": "success",
            "description": "",
            "description_tooltip": null,
            "layout": "IPY_MODEL_bfa993120a804d04a31070539417c057",
            "max": 466062,
            "min": 0,
            "orientation": "horizontal",
            "style": "IPY_MODEL_f5cd44201e3f4f06a48a59209c515e87",
            "value": 466062
          }
        },
        "5c280a3b9a8c4f45a83f1e2b18a06c21": {
          "model_module": "@jupyter-widgets/controls",
          "model_module_version": "1.5.0",
          "model_name": "HTMLModel",
          "state": {
            "_dom_classes": [],
            "_model_module": "@jupyter-widgets/controls",
            "_model_module_version": "1.5.0",
            "_model_name": "HTMLModel",
            "_view_count": null,
            "_view_module": "@jupyter-widgets/controls",
            "_view_module_version": "1.5.0",
            "_view_name": "HTMLView",
            "description": "",
            "description_tooltip": null,
            "layout": "IPY_MODEL_1a1ae0ae93c74375b244f497d997be9e",
            "placeholder": "​",
            "style": "IPY_MODEL_45196e569f9f45ff9979367b44da26c4",
            "value": " 232k/232k [00:00&lt;00:00, 3.77MB/s]"
          }
        },
        "65bad2cf6ee74f5389dad2a8bb5e4256": {
          "model_module": "@jupyter-widgets/controls",
          "model_module_version": "1.5.0",
          "model_name": "HBoxModel",
          "state": {
            "_dom_classes": [],
            "_model_module": "@jupyter-widgets/controls",
            "_model_module_version": "1.5.0",
            "_model_name": "HBoxModel",
            "_view_count": null,
            "_view_module": "@jupyter-widgets/controls",
            "_view_module_version": "1.5.0",
            "_view_name": "HBoxView",
            "box_style": "",
            "children": [
              "IPY_MODEL_8887ac2ccd3d43b5ae6b7f55233b7dbb",
              "IPY_MODEL_50a1b5456c6f46f69b164d95122e48e9",
              "IPY_MODEL_79b75cb89f92408689eb1982d352def0"
            ],
            "layout": "IPY_MODEL_4d553cb1da1245a88506e628ac09a563"
          }
        },
        "6894d4cbdeca4fcb841199158222fc52": {
          "model_module": "@jupyter-widgets/controls",
          "model_module_version": "1.5.0",
          "model_name": "DescriptionStyleModel",
          "state": {
            "_model_module": "@jupyter-widgets/controls",
            "_model_module_version": "1.5.0",
            "_model_name": "DescriptionStyleModel",
            "_view_count": null,
            "_view_module": "@jupyter-widgets/base",
            "_view_module_version": "1.2.0",
            "_view_name": "StyleView",
            "description_width": ""
          }
        },
        "6bd6a39582fa4eec85ff0c4d46ae8cbe": {
          "model_module": "@jupyter-widgets/base",
          "model_module_version": "1.2.0",
          "model_name": "LayoutModel",
          "state": {
            "_model_module": "@jupyter-widgets/base",
            "_model_module_version": "1.2.0",
            "_model_name": "LayoutModel",
            "_view_count": null,
            "_view_module": "@jupyter-widgets/base",
            "_view_module_version": "1.2.0",
            "_view_name": "LayoutView",
            "align_content": null,
            "align_items": null,
            "align_self": null,
            "border": null,
            "bottom": null,
            "display": null,
            "flex": null,
            "flex_flow": null,
            "grid_area": null,
            "grid_auto_columns": null,
            "grid_auto_flow": null,
            "grid_auto_rows": null,
            "grid_column": null,
            "grid_gap": null,
            "grid_row": null,
            "grid_template_areas": null,
            "grid_template_columns": null,
            "grid_template_rows": null,
            "height": null,
            "justify_content": null,
            "justify_items": null,
            "left": null,
            "margin": null,
            "max_height": null,
            "max_width": null,
            "min_height": null,
            "min_width": null,
            "object_fit": null,
            "object_position": null,
            "order": null,
            "overflow": null,
            "overflow_x": null,
            "overflow_y": null,
            "padding": null,
            "right": null,
            "top": null,
            "visibility": null,
            "width": null
          }
        },
        "79b75cb89f92408689eb1982d352def0": {
          "model_module": "@jupyter-widgets/controls",
          "model_module_version": "1.5.0",
          "model_name": "HTMLModel",
          "state": {
            "_dom_classes": [],
            "_model_module": "@jupyter-widgets/controls",
            "_model_module_version": "1.5.0",
            "_model_name": "HTMLModel",
            "_view_count": null,
            "_view_module": "@jupyter-widgets/controls",
            "_view_module_version": "1.5.0",
            "_view_name": "HTMLView",
            "description": "",
            "description_tooltip": null,
            "layout": "IPY_MODEL_243740eb6d2c4c008958f290fc6c3fef",
            "placeholder": "​",
            "style": "IPY_MODEL_2f0eeaa9e0b24fcdb73d79002f895b37",
            "value": " 466k/466k [00:00&lt;00:00, 6.93MB/s]"
          }
        },
        "7c42eb809a1948f287b14eb8646863ac": {
          "model_module": "@jupyter-widgets/controls",
          "model_module_version": "1.5.0",
          "model_name": "DescriptionStyleModel",
          "state": {
            "_model_module": "@jupyter-widgets/controls",
            "_model_module_version": "1.5.0",
            "_model_name": "DescriptionStyleModel",
            "_view_count": null,
            "_view_module": "@jupyter-widgets/base",
            "_view_module_version": "1.2.0",
            "_view_name": "StyleView",
            "description_width": ""
          }
        },
        "7e3437afaeb0488c9ae8903e1f5aeaeb": {
          "model_module": "@jupyter-widgets/controls",
          "model_module_version": "1.5.0",
          "model_name": "FloatProgressModel",
          "state": {
            "_dom_classes": [],
            "_model_module": "@jupyter-widgets/controls",
            "_model_module_version": "1.5.0",
            "_model_name": "FloatProgressModel",
            "_view_count": null,
            "_view_module": "@jupyter-widgets/controls",
            "_view_module_version": "1.5.0",
            "_view_name": "ProgressView",
            "bar_style": "success",
            "description": "",
            "description_tooltip": null,
            "layout": "IPY_MODEL_e0838318929442b1beb114588342533d",
            "max": 440449768,
            "min": 0,
            "orientation": "horizontal",
            "style": "IPY_MODEL_b984ffb2f6bc40328de5526175dcfbc5",
            "value": 440449768
          }
        },
        "7ea35dcc13294af0a5fd53b0e9da75af": {
          "model_module": "@jupyter-widgets/controls",
          "model_module_version": "1.5.0",
          "model_name": "DescriptionStyleModel",
          "state": {
            "_model_module": "@jupyter-widgets/controls",
            "_model_module_version": "1.5.0",
            "_model_name": "DescriptionStyleModel",
            "_view_count": null,
            "_view_module": "@jupyter-widgets/base",
            "_view_module_version": "1.2.0",
            "_view_name": "StyleView",
            "description_width": ""
          }
        },
        "81afa3e05cec4502a47e98d4c79f4595": {
          "model_module": "@jupyter-widgets/base",
          "model_module_version": "1.2.0",
          "model_name": "LayoutModel",
          "state": {
            "_model_module": "@jupyter-widgets/base",
            "_model_module_version": "1.2.0",
            "_model_name": "LayoutModel",
            "_view_count": null,
            "_view_module": "@jupyter-widgets/base",
            "_view_module_version": "1.2.0",
            "_view_name": "LayoutView",
            "align_content": null,
            "align_items": null,
            "align_self": null,
            "border": null,
            "bottom": null,
            "display": null,
            "flex": null,
            "flex_flow": null,
            "grid_area": null,
            "grid_auto_columns": null,
            "grid_auto_flow": null,
            "grid_auto_rows": null,
            "grid_column": null,
            "grid_gap": null,
            "grid_row": null,
            "grid_template_areas": null,
            "grid_template_columns": null,
            "grid_template_rows": null,
            "height": null,
            "justify_content": null,
            "justify_items": null,
            "left": null,
            "margin": null,
            "max_height": null,
            "max_width": null,
            "min_height": null,
            "min_width": null,
            "object_fit": null,
            "object_position": null,
            "order": null,
            "overflow": null,
            "overflow_x": null,
            "overflow_y": null,
            "padding": null,
            "right": null,
            "top": null,
            "visibility": null,
            "width": null
          }
        },
        "84b80fb4bada4b409604d5a3e32ccab4": {
          "model_module": "@jupyter-widgets/controls",
          "model_module_version": "1.5.0",
          "model_name": "HBoxModel",
          "state": {
            "_dom_classes": [],
            "_model_module": "@jupyter-widgets/controls",
            "_model_module_version": "1.5.0",
            "_model_name": "HBoxModel",
            "_view_count": null,
            "_view_module": "@jupyter-widgets/controls",
            "_view_module_version": "1.5.0",
            "_view_name": "HBoxView",
            "box_style": "",
            "children": [
              "IPY_MODEL_b8229a6ae8144e5d866236dae44b207d",
              "IPY_MODEL_1f0f12b28589447ba479ee587485bc1d",
              "IPY_MODEL_ab7ed36eb2a24816848675c006942222"
            ],
            "layout": "IPY_MODEL_28fbe1083f0e4432add62907b1ceab4a"
          }
        },
        "8515e0c1696442b2887f64c8efff658b": {
          "model_module": "@jupyter-widgets/controls",
          "model_module_version": "1.5.0",
          "model_name": "HBoxModel",
          "state": {
            "_dom_classes": [],
            "_model_module": "@jupyter-widgets/controls",
            "_model_module_version": "1.5.0",
            "_model_name": "HBoxModel",
            "_view_count": null,
            "_view_module": "@jupyter-widgets/controls",
            "_view_module_version": "1.5.0",
            "_view_name": "HBoxView",
            "box_style": "",
            "children": [
              "IPY_MODEL_d3224ed0587e415e8eed7f38b54fac78",
              "IPY_MODEL_0b5bbeaf9ca042eb9e73bb015e9fb022",
              "IPY_MODEL_bd07e92fc7dd4ab4bef5188cfbdb218f"
            ],
            "layout": "IPY_MODEL_e39ee4502f924d1c90c24b82c84aa8a7"
          }
        },
        "869f241d0be74eac9db6813a0a6a08d1": {
          "model_module": "@jupyter-widgets/controls",
          "model_module_version": "1.5.0",
          "model_name": "DescriptionStyleModel",
          "state": {
            "_model_module": "@jupyter-widgets/controls",
            "_model_module_version": "1.5.0",
            "_model_name": "DescriptionStyleModel",
            "_view_count": null,
            "_view_module": "@jupyter-widgets/base",
            "_view_module_version": "1.2.0",
            "_view_name": "StyleView",
            "description_width": ""
          }
        },
        "8887ac2ccd3d43b5ae6b7f55233b7dbb": {
          "model_module": "@jupyter-widgets/controls",
          "model_module_version": "1.5.0",
          "model_name": "HTMLModel",
          "state": {
            "_dom_classes": [],
            "_model_module": "@jupyter-widgets/controls",
            "_model_module_version": "1.5.0",
            "_model_name": "HTMLModel",
            "_view_count": null,
            "_view_module": "@jupyter-widgets/controls",
            "_view_module_version": "1.5.0",
            "_view_name": "HTMLView",
            "description": "",
            "description_tooltip": null,
            "layout": "IPY_MODEL_0a8ec87ee0aa42ef95abde448bc9b18a",
            "placeholder": "​",
            "style": "IPY_MODEL_3e02dce980644bca84df3bcf4ca203b0",
            "value": "tokenizer.json: 100%"
          }
        },
        "8cf386e212a24e50b2851aa0bab8bb44": {
          "model_module": "@jupyter-widgets/controls",
          "model_module_version": "1.5.0",
          "model_name": "HTMLModel",
          "state": {
            "_dom_classes": [],
            "_model_module": "@jupyter-widgets/controls",
            "_model_module_version": "1.5.0",
            "_model_name": "HTMLModel",
            "_view_count": null,
            "_view_module": "@jupyter-widgets/controls",
            "_view_module_version": "1.5.0",
            "_view_name": "HTMLView",
            "description": "",
            "description_tooltip": null,
            "layout": "IPY_MODEL_6bd6a39582fa4eec85ff0c4d46ae8cbe",
            "placeholder": "​",
            "style": "IPY_MODEL_d155f09c8d634a96a73c5b6ec4cb67a3",
            "value": " 440M/440M [00:05&lt;00:00, 115MB/s]"
          }
        },
        "94ec58f423d949f28b485360a453b5d3": {
          "model_module": "@jupyter-widgets/controls",
          "model_module_version": "1.5.0",
          "model_name": "DescriptionStyleModel",
          "state": {
            "_model_module": "@jupyter-widgets/controls",
            "_model_module_version": "1.5.0",
            "_model_name": "DescriptionStyleModel",
            "_view_count": null,
            "_view_module": "@jupyter-widgets/base",
            "_view_module_version": "1.2.0",
            "_view_name": "StyleView",
            "description_width": ""
          }
        },
        "97baebf18813443e905c917f2850fe35": {
          "model_module": "@jupyter-widgets/base",
          "model_module_version": "1.2.0",
          "model_name": "LayoutModel",
          "state": {
            "_model_module": "@jupyter-widgets/base",
            "_model_module_version": "1.2.0",
            "_model_name": "LayoutModel",
            "_view_count": null,
            "_view_module": "@jupyter-widgets/base",
            "_view_module_version": "1.2.0",
            "_view_name": "LayoutView",
            "align_content": null,
            "align_items": null,
            "align_self": null,
            "border": null,
            "bottom": null,
            "display": null,
            "flex": null,
            "flex_flow": null,
            "grid_area": null,
            "grid_auto_columns": null,
            "grid_auto_flow": null,
            "grid_auto_rows": null,
            "grid_column": null,
            "grid_gap": null,
            "grid_row": null,
            "grid_template_areas": null,
            "grid_template_columns": null,
            "grid_template_rows": null,
            "height": null,
            "justify_content": null,
            "justify_items": null,
            "left": null,
            "margin": null,
            "max_height": null,
            "max_width": null,
            "min_height": null,
            "min_width": null,
            "object_fit": null,
            "object_position": null,
            "order": null,
            "overflow": null,
            "overflow_x": null,
            "overflow_y": null,
            "padding": null,
            "right": null,
            "top": null,
            "visibility": null,
            "width": null
          }
        },
        "989ceb27abf343099468423d2c353d1d": {
          "model_module": "@jupyter-widgets/controls",
          "model_module_version": "1.5.0",
          "model_name": "HTMLModel",
          "state": {
            "_dom_classes": [],
            "_model_module": "@jupyter-widgets/controls",
            "_model_module_version": "1.5.0",
            "_model_name": "HTMLModel",
            "_view_count": null,
            "_view_module": "@jupyter-widgets/controls",
            "_view_module_version": "1.5.0",
            "_view_name": "HTMLView",
            "description": "",
            "description_tooltip": null,
            "layout": "IPY_MODEL_e4c2ff30b3bf4e65856a3ae4bf78a931",
            "placeholder": "​",
            "style": "IPY_MODEL_cb008d69b7434439a5958f940012c1bc",
            "value": "vocab.txt: 100%"
          }
        },
        "ab7ed36eb2a24816848675c006942222": {
          "model_module": "@jupyter-widgets/controls",
          "model_module_version": "1.5.0",
          "model_name": "HTMLModel",
          "state": {
            "_dom_classes": [],
            "_model_module": "@jupyter-widgets/controls",
            "_model_module_version": "1.5.0",
            "_model_name": "HTMLModel",
            "_view_count": null,
            "_view_module": "@jupyter-widgets/controls",
            "_view_module_version": "1.5.0",
            "_view_name": "HTMLView",
            "description": "",
            "description_tooltip": null,
            "layout": "IPY_MODEL_2b77841edefb4731af1c7ece67cc5a4d",
            "placeholder": "​",
            "style": "IPY_MODEL_869f241d0be74eac9db6813a0a6a08d1",
            "value": " 570/570 [00:00&lt;00:00, 41.6kB/s]"
          }
        },
        "b8229a6ae8144e5d866236dae44b207d": {
          "model_module": "@jupyter-widgets/controls",
          "model_module_version": "1.5.0",
          "model_name": "HTMLModel",
          "state": {
            "_dom_classes": [],
            "_model_module": "@jupyter-widgets/controls",
            "_model_module_version": "1.5.0",
            "_model_name": "HTMLModel",
            "_view_count": null,
            "_view_module": "@jupyter-widgets/controls",
            "_view_module_version": "1.5.0",
            "_view_name": "HTMLView",
            "description": "",
            "description_tooltip": null,
            "layout": "IPY_MODEL_97baebf18813443e905c917f2850fe35",
            "placeholder": "​",
            "style": "IPY_MODEL_94ec58f423d949f28b485360a453b5d3",
            "value": "config.json: 100%"
          }
        },
        "b984ffb2f6bc40328de5526175dcfbc5": {
          "model_module": "@jupyter-widgets/controls",
          "model_module_version": "1.5.0",
          "model_name": "ProgressStyleModel",
          "state": {
            "_model_module": "@jupyter-widgets/controls",
            "_model_module_version": "1.5.0",
            "_model_name": "ProgressStyleModel",
            "_view_count": null,
            "_view_module": "@jupyter-widgets/base",
            "_view_module_version": "1.2.0",
            "_view_name": "StyleView",
            "bar_color": null,
            "description_width": ""
          }
        },
        "bb12e39d70d14bf0a6452c9752feb0e4": {
          "model_module": "@jupyter-widgets/base",
          "model_module_version": "1.2.0",
          "model_name": "LayoutModel",
          "state": {
            "_model_module": "@jupyter-widgets/base",
            "_model_module_version": "1.2.0",
            "_model_name": "LayoutModel",
            "_view_count": null,
            "_view_module": "@jupyter-widgets/base",
            "_view_module_version": "1.2.0",
            "_view_name": "LayoutView",
            "align_content": null,
            "align_items": null,
            "align_self": null,
            "border": null,
            "bottom": null,
            "display": null,
            "flex": null,
            "flex_flow": null,
            "grid_area": null,
            "grid_auto_columns": null,
            "grid_auto_flow": null,
            "grid_auto_rows": null,
            "grid_column": null,
            "grid_gap": null,
            "grid_row": null,
            "grid_template_areas": null,
            "grid_template_columns": null,
            "grid_template_rows": null,
            "height": null,
            "justify_content": null,
            "justify_items": null,
            "left": null,
            "margin": null,
            "max_height": null,
            "max_width": null,
            "min_height": null,
            "min_width": null,
            "object_fit": null,
            "object_position": null,
            "order": null,
            "overflow": null,
            "overflow_x": null,
            "overflow_y": null,
            "padding": null,
            "right": null,
            "top": null,
            "visibility": null,
            "width": null
          }
        },
        "bd07e92fc7dd4ab4bef5188cfbdb218f": {
          "model_module": "@jupyter-widgets/controls",
          "model_module_version": "1.5.0",
          "model_name": "HTMLModel",
          "state": {
            "_dom_classes": [],
            "_model_module": "@jupyter-widgets/controls",
            "_model_module_version": "1.5.0",
            "_model_name": "HTMLModel",
            "_view_count": null,
            "_view_module": "@jupyter-widgets/controls",
            "_view_module_version": "1.5.0",
            "_view_name": "HTMLView",
            "description": "",
            "description_tooltip": null,
            "layout": "IPY_MODEL_35459b2c199c40d1a004fb70d0d0ce9f",
            "placeholder": "​",
            "style": "IPY_MODEL_6894d4cbdeca4fcb841199158222fc52",
            "value": " 48.0/48.0 [00:00&lt;00:00, 1.42kB/s]"
          }
        },
        "bfa993120a804d04a31070539417c057": {
          "model_module": "@jupyter-widgets/base",
          "model_module_version": "1.2.0",
          "model_name": "LayoutModel",
          "state": {
            "_model_module": "@jupyter-widgets/base",
            "_model_module_version": "1.2.0",
            "_model_name": "LayoutModel",
            "_view_count": null,
            "_view_module": "@jupyter-widgets/base",
            "_view_module_version": "1.2.0",
            "_view_name": "LayoutView",
            "align_content": null,
            "align_items": null,
            "align_self": null,
            "border": null,
            "bottom": null,
            "display": null,
            "flex": null,
            "flex_flow": null,
            "grid_area": null,
            "grid_auto_columns": null,
            "grid_auto_flow": null,
            "grid_auto_rows": null,
            "grid_column": null,
            "grid_gap": null,
            "grid_row": null,
            "grid_template_areas": null,
            "grid_template_columns": null,
            "grid_template_rows": null,
            "height": null,
            "justify_content": null,
            "justify_items": null,
            "left": null,
            "margin": null,
            "max_height": null,
            "max_width": null,
            "min_height": null,
            "min_width": null,
            "object_fit": null,
            "object_position": null,
            "order": null,
            "overflow": null,
            "overflow_x": null,
            "overflow_y": null,
            "padding": null,
            "right": null,
            "top": null,
            "visibility": null,
            "width": null
          }
        },
        "c02e13df08f44766ad4f348d8f2a4db3": {
          "model_module": "@jupyter-widgets/base",
          "model_module_version": "1.2.0",
          "model_name": "LayoutModel",
          "state": {
            "_model_module": "@jupyter-widgets/base",
            "_model_module_version": "1.2.0",
            "_model_name": "LayoutModel",
            "_view_count": null,
            "_view_module": "@jupyter-widgets/base",
            "_view_module_version": "1.2.0",
            "_view_name": "LayoutView",
            "align_content": null,
            "align_items": null,
            "align_self": null,
            "border": null,
            "bottom": null,
            "display": null,
            "flex": null,
            "flex_flow": null,
            "grid_area": null,
            "grid_auto_columns": null,
            "grid_auto_flow": null,
            "grid_auto_rows": null,
            "grid_column": null,
            "grid_gap": null,
            "grid_row": null,
            "grid_template_areas": null,
            "grid_template_columns": null,
            "grid_template_rows": null,
            "height": null,
            "justify_content": null,
            "justify_items": null,
            "left": null,
            "margin": null,
            "max_height": null,
            "max_width": null,
            "min_height": null,
            "min_width": null,
            "object_fit": null,
            "object_position": null,
            "order": null,
            "overflow": null,
            "overflow_x": null,
            "overflow_y": null,
            "padding": null,
            "right": null,
            "top": null,
            "visibility": null,
            "width": null
          }
        },
        "c7573ff73d814faa9144bf7ee3d3b599": {
          "model_module": "@jupyter-widgets/controls",
          "model_module_version": "1.5.0",
          "model_name": "HBoxModel",
          "state": {
            "_dom_classes": [],
            "_model_module": "@jupyter-widgets/controls",
            "_model_module_version": "1.5.0",
            "_model_name": "HBoxModel",
            "_view_count": null,
            "_view_module": "@jupyter-widgets/controls",
            "_view_module_version": "1.5.0",
            "_view_name": "HBoxView",
            "box_style": "",
            "children": [
              "IPY_MODEL_989ceb27abf343099468423d2c353d1d",
              "IPY_MODEL_e027f49dec4242d3a93a00f3c8cae087",
              "IPY_MODEL_5c280a3b9a8c4f45a83f1e2b18a06c21"
            ],
            "layout": "IPY_MODEL_c02e13df08f44766ad4f348d8f2a4db3"
          }
        },
        "cb008d69b7434439a5958f940012c1bc": {
          "model_module": "@jupyter-widgets/controls",
          "model_module_version": "1.5.0",
          "model_name": "DescriptionStyleModel",
          "state": {
            "_model_module": "@jupyter-widgets/controls",
            "_model_module_version": "1.5.0",
            "_model_name": "DescriptionStyleModel",
            "_view_count": null,
            "_view_module": "@jupyter-widgets/base",
            "_view_module_version": "1.2.0",
            "_view_name": "StyleView",
            "description_width": ""
          }
        },
        "d155f09c8d634a96a73c5b6ec4cb67a3": {
          "model_module": "@jupyter-widgets/controls",
          "model_module_version": "1.5.0",
          "model_name": "DescriptionStyleModel",
          "state": {
            "_model_module": "@jupyter-widgets/controls",
            "_model_module_version": "1.5.0",
            "_model_name": "DescriptionStyleModel",
            "_view_count": null,
            "_view_module": "@jupyter-widgets/base",
            "_view_module_version": "1.2.0",
            "_view_name": "StyleView",
            "description_width": ""
          }
        },
        "d3224ed0587e415e8eed7f38b54fac78": {
          "model_module": "@jupyter-widgets/controls",
          "model_module_version": "1.5.0",
          "model_name": "HTMLModel",
          "state": {
            "_dom_classes": [],
            "_model_module": "@jupyter-widgets/controls",
            "_model_module_version": "1.5.0",
            "_model_name": "HTMLModel",
            "_view_count": null,
            "_view_module": "@jupyter-widgets/controls",
            "_view_module_version": "1.5.0",
            "_view_name": "HTMLView",
            "description": "",
            "description_tooltip": null,
            "layout": "IPY_MODEL_3885a30f047041abaeb3dd92719b557c",
            "placeholder": "​",
            "style": "IPY_MODEL_7c42eb809a1948f287b14eb8646863ac",
            "value": "tokenizer_config.json: 100%"
          }
        },
        "e027f49dec4242d3a93a00f3c8cae087": {
          "model_module": "@jupyter-widgets/controls",
          "model_module_version": "1.5.0",
          "model_name": "FloatProgressModel",
          "state": {
            "_dom_classes": [],
            "_model_module": "@jupyter-widgets/controls",
            "_model_module_version": "1.5.0",
            "_model_name": "FloatProgressModel",
            "_view_count": null,
            "_view_module": "@jupyter-widgets/controls",
            "_view_module_version": "1.5.0",
            "_view_name": "ProgressView",
            "bar_style": "success",
            "description": "",
            "description_tooltip": null,
            "layout": "IPY_MODEL_175ad14db7084599be13a8dc54e0037f",
            "max": 231508,
            "min": 0,
            "orientation": "horizontal",
            "style": "IPY_MODEL_2bcc5db6c9ce4d9b8de064cbcc647e5f",
            "value": 231508
          }
        },
        "e0838318929442b1beb114588342533d": {
          "model_module": "@jupyter-widgets/base",
          "model_module_version": "1.2.0",
          "model_name": "LayoutModel",
          "state": {
            "_model_module": "@jupyter-widgets/base",
            "_model_module_version": "1.2.0",
            "_model_name": "LayoutModel",
            "_view_count": null,
            "_view_module": "@jupyter-widgets/base",
            "_view_module_version": "1.2.0",
            "_view_name": "LayoutView",
            "align_content": null,
            "align_items": null,
            "align_self": null,
            "border": null,
            "bottom": null,
            "display": null,
            "flex": null,
            "flex_flow": null,
            "grid_area": null,
            "grid_auto_columns": null,
            "grid_auto_flow": null,
            "grid_auto_rows": null,
            "grid_column": null,
            "grid_gap": null,
            "grid_row": null,
            "grid_template_areas": null,
            "grid_template_columns": null,
            "grid_template_rows": null,
            "height": null,
            "justify_content": null,
            "justify_items": null,
            "left": null,
            "margin": null,
            "max_height": null,
            "max_width": null,
            "min_height": null,
            "min_width": null,
            "object_fit": null,
            "object_position": null,
            "order": null,
            "overflow": null,
            "overflow_x": null,
            "overflow_y": null,
            "padding": null,
            "right": null,
            "top": null,
            "visibility": null,
            "width": null
          }
        },
        "e39ee4502f924d1c90c24b82c84aa8a7": {
          "model_module": "@jupyter-widgets/base",
          "model_module_version": "1.2.0",
          "model_name": "LayoutModel",
          "state": {
            "_model_module": "@jupyter-widgets/base",
            "_model_module_version": "1.2.0",
            "_model_name": "LayoutModel",
            "_view_count": null,
            "_view_module": "@jupyter-widgets/base",
            "_view_module_version": "1.2.0",
            "_view_name": "LayoutView",
            "align_content": null,
            "align_items": null,
            "align_self": null,
            "border": null,
            "bottom": null,
            "display": null,
            "flex": null,
            "flex_flow": null,
            "grid_area": null,
            "grid_auto_columns": null,
            "grid_auto_flow": null,
            "grid_auto_rows": null,
            "grid_column": null,
            "grid_gap": null,
            "grid_row": null,
            "grid_template_areas": null,
            "grid_template_columns": null,
            "grid_template_rows": null,
            "height": null,
            "justify_content": null,
            "justify_items": null,
            "left": null,
            "margin": null,
            "max_height": null,
            "max_width": null,
            "min_height": null,
            "min_width": null,
            "object_fit": null,
            "object_position": null,
            "order": null,
            "overflow": null,
            "overflow_x": null,
            "overflow_y": null,
            "padding": null,
            "right": null,
            "top": null,
            "visibility": null,
            "width": null
          }
        },
        "e4c2ff30b3bf4e65856a3ae4bf78a931": {
          "model_module": "@jupyter-widgets/base",
          "model_module_version": "1.2.0",
          "model_name": "LayoutModel",
          "state": {
            "_model_module": "@jupyter-widgets/base",
            "_model_module_version": "1.2.0",
            "_model_name": "LayoutModel",
            "_view_count": null,
            "_view_module": "@jupyter-widgets/base",
            "_view_module_version": "1.2.0",
            "_view_name": "LayoutView",
            "align_content": null,
            "align_items": null,
            "align_self": null,
            "border": null,
            "bottom": null,
            "display": null,
            "flex": null,
            "flex_flow": null,
            "grid_area": null,
            "grid_auto_columns": null,
            "grid_auto_flow": null,
            "grid_auto_rows": null,
            "grid_column": null,
            "grid_gap": null,
            "grid_row": null,
            "grid_template_areas": null,
            "grid_template_columns": null,
            "grid_template_rows": null,
            "height": null,
            "justify_content": null,
            "justify_items": null,
            "left": null,
            "margin": null,
            "max_height": null,
            "max_width": null,
            "min_height": null,
            "min_width": null,
            "object_fit": null,
            "object_position": null,
            "order": null,
            "overflow": null,
            "overflow_x": null,
            "overflow_y": null,
            "padding": null,
            "right": null,
            "top": null,
            "visibility": null,
            "width": null
          }
        },
        "f4008a6a557f4efd9e417e52c6914baa": {
          "model_module": "@jupyter-widgets/controls",
          "model_module_version": "1.5.0",
          "model_name": "HBoxModel",
          "state": {
            "_dom_classes": [],
            "_model_module": "@jupyter-widgets/controls",
            "_model_module_version": "1.5.0",
            "_model_name": "HBoxModel",
            "_view_count": null,
            "_view_module": "@jupyter-widgets/controls",
            "_view_module_version": "1.5.0",
            "_view_name": "HBoxView",
            "box_style": "",
            "children": [
              "IPY_MODEL_f7d733d702a647a9b6d7957c63492a86",
              "IPY_MODEL_7e3437afaeb0488c9ae8903e1f5aeaeb",
              "IPY_MODEL_8cf386e212a24e50b2851aa0bab8bb44"
            ],
            "layout": "IPY_MODEL_3be7cfc2f9ed47d98524e6953d99b36b"
          }
        },
        "f5cd44201e3f4f06a48a59209c515e87": {
          "model_module": "@jupyter-widgets/controls",
          "model_module_version": "1.5.0",
          "model_name": "ProgressStyleModel",
          "state": {
            "_model_module": "@jupyter-widgets/controls",
            "_model_module_version": "1.5.0",
            "_model_name": "ProgressStyleModel",
            "_view_count": null,
            "_view_module": "@jupyter-widgets/base",
            "_view_module_version": "1.2.0",
            "_view_name": "StyleView",
            "bar_color": null,
            "description_width": ""
          }
        },
        "f7d733d702a647a9b6d7957c63492a86": {
          "model_module": "@jupyter-widgets/controls",
          "model_module_version": "1.5.0",
          "model_name": "HTMLModel",
          "state": {
            "_dom_classes": [],
            "_model_module": "@jupyter-widgets/controls",
            "_model_module_version": "1.5.0",
            "_model_name": "HTMLModel",
            "_view_count": null,
            "_view_module": "@jupyter-widgets/controls",
            "_view_module_version": "1.5.0",
            "_view_name": "HTMLView",
            "description": "",
            "description_tooltip": null,
            "layout": "IPY_MODEL_bb12e39d70d14bf0a6452c9752feb0e4",
            "placeholder": "​",
            "style": "IPY_MODEL_7ea35dcc13294af0a5fd53b0e9da75af",
            "value": "model.safetensors: 100%"
          }
        },
        "fd59d981f01a4f65b870363bbca77b11": {
          "model_module": "@jupyter-widgets/controls",
          "model_module_version": "1.5.0",
          "model_name": "ProgressStyleModel",
          "state": {
            "_model_module": "@jupyter-widgets/controls",
            "_model_module_version": "1.5.0",
            "_model_name": "ProgressStyleModel",
            "_view_count": null,
            "_view_module": "@jupyter-widgets/base",
            "_view_module_version": "1.2.0",
            "_view_name": "StyleView",
            "bar_color": null,
            "description_width": ""
          }
        }
      }
    }
  },
  "nbformat": 4,
  "nbformat_minor": 0
}
